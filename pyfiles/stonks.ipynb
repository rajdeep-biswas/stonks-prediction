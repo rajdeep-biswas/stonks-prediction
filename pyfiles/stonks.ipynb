{
  "nbformat": 4,
  "nbformat_minor": 0,
  "metadata": {
    "colab": {
      "name": "stonks.ipynb",
      "provenance": [],
      "collapsed_sections": []
    },
    "kernelspec": {
      "name": "python3",
      "display_name": "Python 3"
    },
    "widgets": {
      "application/vnd.jupyter.widget-state+json": {
        "1dbb5d18eafa4435a5d567cbfeee9ec3": {
          "model_module": "@jupyter-widgets/controls",
          "model_name": "HBoxModel",
          "state": {
            "_view_name": "HBoxView",
            "_dom_classes": [],
            "_model_name": "HBoxModel",
            "_view_module": "@jupyter-widgets/controls",
            "_model_module_version": "1.5.0",
            "_view_count": null,
            "_view_module_version": "1.5.0",
            "box_style": "",
            "layout": "IPY_MODEL_6926e6c511844db3bb63239978de2f38",
            "_model_module": "@jupyter-widgets/controls",
            "children": [
              "IPY_MODEL_daf4290383704533ba9bb9baf40f366a",
              "IPY_MODEL_e062995a7e7b45b599927236acb7caee"
            ]
          }
        },
        "6926e6c511844db3bb63239978de2f38": {
          "model_module": "@jupyter-widgets/base",
          "model_name": "LayoutModel",
          "state": {
            "_view_name": "LayoutView",
            "grid_template_rows": null,
            "right": null,
            "justify_content": null,
            "_view_module": "@jupyter-widgets/base",
            "overflow": null,
            "_model_module_version": "1.2.0",
            "_view_count": null,
            "flex_flow": null,
            "width": null,
            "min_width": null,
            "border": null,
            "align_items": null,
            "bottom": null,
            "_model_module": "@jupyter-widgets/base",
            "top": null,
            "grid_column": null,
            "overflow_y": null,
            "overflow_x": null,
            "grid_auto_flow": null,
            "grid_area": null,
            "grid_template_columns": null,
            "flex": null,
            "_model_name": "LayoutModel",
            "justify_items": null,
            "grid_row": null,
            "max_height": null,
            "align_content": null,
            "visibility": null,
            "align_self": null,
            "height": null,
            "min_height": null,
            "padding": null,
            "grid_auto_rows": null,
            "grid_gap": null,
            "max_width": null,
            "order": null,
            "_view_module_version": "1.2.0",
            "grid_template_areas": null,
            "object_position": null,
            "object_fit": null,
            "grid_auto_columns": null,
            "margin": null,
            "display": null,
            "left": null
          }
        },
        "daf4290383704533ba9bb9baf40f366a": {
          "model_module": "@jupyter-widgets/controls",
          "model_name": "IntProgressModel",
          "state": {
            "_view_name": "ProgressView",
            "style": "IPY_MODEL_93c52c3c94564d9b85df59c06cb951e4",
            "_dom_classes": [],
            "description": "100%",
            "_model_name": "IntProgressModel",
            "bar_style": "success",
            "max": 135,
            "_view_module": "@jupyter-widgets/controls",
            "_model_module_version": "1.5.0",
            "value": 135,
            "_view_count": null,
            "_view_module_version": "1.5.0",
            "orientation": "horizontal",
            "min": 0,
            "description_tooltip": null,
            "_model_module": "@jupyter-widgets/controls",
            "layout": "IPY_MODEL_e422ad20a32148ffb0dddca40fae66ba"
          }
        },
        "e062995a7e7b45b599927236acb7caee": {
          "model_module": "@jupyter-widgets/controls",
          "model_name": "HTMLModel",
          "state": {
            "_view_name": "HTMLView",
            "style": "IPY_MODEL_a19f769f367a4226ae1a97ae60724897",
            "_dom_classes": [],
            "description": "",
            "_model_name": "HTMLModel",
            "placeholder": "​",
            "_view_module": "@jupyter-widgets/controls",
            "_model_module_version": "1.5.0",
            "value": " 135/135 [00:00&lt;00:00, 3604.91it/s]",
            "_view_count": null,
            "_view_module_version": "1.5.0",
            "description_tooltip": null,
            "_model_module": "@jupyter-widgets/controls",
            "layout": "IPY_MODEL_95e76c205eaf40b08457b72381973403"
          }
        },
        "93c52c3c94564d9b85df59c06cb951e4": {
          "model_module": "@jupyter-widgets/controls",
          "model_name": "ProgressStyleModel",
          "state": {
            "_view_name": "StyleView",
            "_model_name": "ProgressStyleModel",
            "description_width": "initial",
            "_view_module": "@jupyter-widgets/base",
            "_model_module_version": "1.5.0",
            "_view_count": null,
            "_view_module_version": "1.2.0",
            "bar_color": null,
            "_model_module": "@jupyter-widgets/controls"
          }
        },
        "e422ad20a32148ffb0dddca40fae66ba": {
          "model_module": "@jupyter-widgets/base",
          "model_name": "LayoutModel",
          "state": {
            "_view_name": "LayoutView",
            "grid_template_rows": null,
            "right": null,
            "justify_content": null,
            "_view_module": "@jupyter-widgets/base",
            "overflow": null,
            "_model_module_version": "1.2.0",
            "_view_count": null,
            "flex_flow": null,
            "width": null,
            "min_width": null,
            "border": null,
            "align_items": null,
            "bottom": null,
            "_model_module": "@jupyter-widgets/base",
            "top": null,
            "grid_column": null,
            "overflow_y": null,
            "overflow_x": null,
            "grid_auto_flow": null,
            "grid_area": null,
            "grid_template_columns": null,
            "flex": null,
            "_model_name": "LayoutModel",
            "justify_items": null,
            "grid_row": null,
            "max_height": null,
            "align_content": null,
            "visibility": null,
            "align_self": null,
            "height": null,
            "min_height": null,
            "padding": null,
            "grid_auto_rows": null,
            "grid_gap": null,
            "max_width": null,
            "order": null,
            "_view_module_version": "1.2.0",
            "grid_template_areas": null,
            "object_position": null,
            "object_fit": null,
            "grid_auto_columns": null,
            "margin": null,
            "display": null,
            "left": null
          }
        },
        "a19f769f367a4226ae1a97ae60724897": {
          "model_module": "@jupyter-widgets/controls",
          "model_name": "DescriptionStyleModel",
          "state": {
            "_view_name": "StyleView",
            "_model_name": "DescriptionStyleModel",
            "description_width": "",
            "_view_module": "@jupyter-widgets/base",
            "_model_module_version": "1.5.0",
            "_view_count": null,
            "_view_module_version": "1.2.0",
            "_model_module": "@jupyter-widgets/controls"
          }
        },
        "95e76c205eaf40b08457b72381973403": {
          "model_module": "@jupyter-widgets/base",
          "model_name": "LayoutModel",
          "state": {
            "_view_name": "LayoutView",
            "grid_template_rows": null,
            "right": null,
            "justify_content": null,
            "_view_module": "@jupyter-widgets/base",
            "overflow": null,
            "_model_module_version": "1.2.0",
            "_view_count": null,
            "flex_flow": null,
            "width": null,
            "min_width": null,
            "border": null,
            "align_items": null,
            "bottom": null,
            "_model_module": "@jupyter-widgets/base",
            "top": null,
            "grid_column": null,
            "overflow_y": null,
            "overflow_x": null,
            "grid_auto_flow": null,
            "grid_area": null,
            "grid_template_columns": null,
            "flex": null,
            "_model_name": "LayoutModel",
            "justify_items": null,
            "grid_row": null,
            "max_height": null,
            "align_content": null,
            "visibility": null,
            "align_self": null,
            "height": null,
            "min_height": null,
            "padding": null,
            "grid_auto_rows": null,
            "grid_gap": null,
            "max_width": null,
            "order": null,
            "_view_module_version": "1.2.0",
            "grid_template_areas": null,
            "object_position": null,
            "object_fit": null,
            "grid_auto_columns": null,
            "margin": null,
            "display": null,
            "left": null
          }
        }
      }
    }
  },
  "cells": [
    {
      "cell_type": "code",
      "metadata": {
        "id": "9WmMZmdZOer3",
        "colab_type": "code",
        "colab": {}
      },
      "source": [
        "import pandas as pd\n",
        "import numpy as np\n",
        "from matplotlib import pyplot as plt\n",
        "from sklearn.preprocessing import MinMaxScaler\n",
        "from sklearn.model_selection import train_test_split\n",
        "from keras.models import Sequential\n",
        "from keras.layers import LSTM\n",
        "from keras.layers import Dense, Dropout\n",
        "from keras import optimizers"
      ],
      "execution_count": 0,
      "outputs": []
    },
    {
      "cell_type": "code",
      "metadata": {
        "id": "vrrwm3TRSUeq",
        "colab_type": "code",
        "colab": {}
      },
      "source": [
        "df = pd.read_csv(\"https://query1.finance.yahoo.com/v7/finance/download/RELIANCE.NS?period1=1556841600&period2=1588464000&interval=1d&events=history\")"
      ],
      "execution_count": 0,
      "outputs": []
    },
    {
      "cell_type": "code",
      "metadata": {
        "id": "76k1ac7qSWoI",
        "colab_type": "code",
        "outputId": "44dc5fec-c232-4e4e-a02c-d4f801cfa97e",
        "colab": {
          "base_uri": "https://localhost:8080/",
          "height": 295
        }
      },
      "source": [
        "plt.figure()\n",
        "plt.plot(df[\"Open\"])\n",
        "plt.plot(df[\"High\"])\n",
        "plt.plot(df[\"Low\"])\n",
        "plt.plot(df[\"Close\"])\n",
        "plt.title('GE stock price history')\n",
        "plt.ylabel('Price (INR)')\n",
        "plt.xlabel('Days')\n",
        "plt.legend(['Open','High','Low','Close'], loc='upper left')\n",
        "plt.show()"
      ],
      "execution_count": 0,
      "outputs": [
        {
          "output_type": "display_data",
          "data": {
            "image/png": "[encoded data removed]",
            "text/plain": [
              "<Figure size 432x288 with 1 Axes>"
            ]
          },
          "metadata": {
            "tags": [],
            "needs_background": "light"
          }
        }
      ]
    },
    {
      "cell_type": "code",
      "metadata": {
        "id": "e7z1hh8USaJ6",
        "colab_type": "code",
        "outputId": "38511851-2a85-4ed6-9742-91f01ed69092",
        "colab": {
          "base_uri": "https://localhost:8080/",
          "height": 295
        }
      },
      "source": [
        "plt.figure()\n",
        "plt.plot(df[\"Volume\"])\n",
        "plt.title('GE stock volume history')\n",
        "plt.ylabel('Volume')\n",
        "plt.xlabel('Days')\n",
        "plt.show()"
      ],
      "execution_count": 0,
      "outputs": [
        {
          "output_type": "display_data",
          "data": {
            "image/png": "[encoded data removed]",
            "text/plain": [
              "<Figure size 432x288 with 1 Axes>"
            ]
          },
          "metadata": {
            "tags": [],
            "needs_background": "light"
          }
        }
      ]
    },
    {
      "cell_type": "code",
      "metadata": {
        "id": "iOYHDGAEVQ5R",
        "colab_type": "code",
        "outputId": "bf7553eb-4d87-41d0-a8e3-96f9963ca151",
        "colab": {
          "base_uri": "https://localhost:8080/",
          "height": 231
        }
      },
      "source": [
        "train_cols = [\"Open\",\"High\",\"Low\",\"Close\",\"Volume\"]\n",
        "X_train, X_test, y_train, y_test = train_test_split(df, train_size=0.8, test_size=0.2, shuffle=False)\n",
        "print(\"Train and Test size\", len(df_train), len(df_test))\n",
        "# scale the feature MinMax, build array\n",
        "x = df_train.loc[:,train_cols].values\n",
        "min_max_scaler = MinMaxScaler()\n",
        "x_train = min_max_scaler.fit_transform(x)\n",
        "x_test = min_max_scaler.transform(df_test.loc[:,train_cols])"
      ],
      "execution_count": 0,
      "outputs": [
        {
          "output_type": "error",
          "ename": "ValueError",
          "evalue": "ignored",
          "traceback": [
            "\u001b[0;31m---------------------------------------------------------------------------\u001b[0m",
            "\u001b[0;31mValueError\u001b[0m                                Traceback (most recent call last)",
            "\u001b[0;32m<ipython-input-67-830b53171f3b>\u001b[0m in \u001b[0;36m<module>\u001b[0;34m()\u001b[0m\n\u001b[1;32m      1\u001b[0m \u001b[0mtrain_cols\u001b[0m \u001b[0;34m=\u001b[0m \u001b[0;34m[\u001b[0m\u001b[0;34m\"Open\"\u001b[0m\u001b[0;34m,\u001b[0m\u001b[0;34m\"High\"\u001b[0m\u001b[0;34m,\u001b[0m\u001b[0;34m\"Low\"\u001b[0m\u001b[0;34m,\u001b[0m\u001b[0;34m\"Close\"\u001b[0m\u001b[0;34m,\u001b[0m\u001b[0;34m\"Volume\"\u001b[0m\u001b[0;34m]\u001b[0m\u001b[0;34m\u001b[0m\u001b[0;34m\u001b[0m\u001b[0m\n\u001b[0;32m----> 2\u001b[0;31m \u001b[0mdf_train\u001b[0m\u001b[0;34m,\u001b[0m \u001b[0mdf_test\u001b[0m\u001b[0;34m,\u001b[0m \u001b[0my_train\u001b[0m\u001b[0;34m,\u001b[0m \u001b[0my_test\u001b[0m \u001b[0;34m=\u001b[0m \u001b[0mtrain_test_split\u001b[0m\u001b[0;34m(\u001b[0m\u001b[0mdf\u001b[0m\u001b[0;34m,\u001b[0m \u001b[0mtrain_size\u001b[0m\u001b[0;34m=\u001b[0m\u001b[0;36m0.8\u001b[0m\u001b[0;34m,\u001b[0m \u001b[0mtest_size\u001b[0m\u001b[0;34m=\u001b[0m\u001b[0;36m0.2\u001b[0m\u001b[0;34m,\u001b[0m \u001b[0mshuffle\u001b[0m\u001b[0;34m=\u001b[0m\u001b[0;32mFalse\u001b[0m\u001b[0;34m)\u001b[0m\u001b[0;34m\u001b[0m\u001b[0;34m\u001b[0m\u001b[0m\n\u001b[0m\u001b[1;32m      3\u001b[0m \u001b[0mprint\u001b[0m\u001b[0;34m(\u001b[0m\u001b[0;34m\"Train and Test size\"\u001b[0m\u001b[0;34m,\u001b[0m \u001b[0mlen\u001b[0m\u001b[0;34m(\u001b[0m\u001b[0mdf_train\u001b[0m\u001b[0;34m)\u001b[0m\u001b[0;34m,\u001b[0m \u001b[0mlen\u001b[0m\u001b[0;34m(\u001b[0m\u001b[0mdf_test\u001b[0m\u001b[0;34m)\u001b[0m\u001b[0;34m)\u001b[0m\u001b[0;34m\u001b[0m\u001b[0;34m\u001b[0m\u001b[0m\n\u001b[1;32m      4\u001b[0m \u001b[0;31m# scale the feature MinMax, build array\u001b[0m\u001b[0;34m\u001b[0m\u001b[0;34m\u001b[0m\u001b[0;34m\u001b[0m\u001b[0m\n\u001b[1;32m      5\u001b[0m \u001b[0mx\u001b[0m \u001b[0;34m=\u001b[0m \u001b[0mdf_train\u001b[0m\u001b[0;34m.\u001b[0m\u001b[0mloc\u001b[0m\u001b[0;34m[\u001b[0m\u001b[0;34m:\u001b[0m\u001b[0;34m,\u001b[0m\u001b[0mtrain_cols\u001b[0m\u001b[0;34m]\u001b[0m\u001b[0;34m.\u001b[0m\u001b[0mvalues\u001b[0m\u001b[0;34m\u001b[0m\u001b[0;34m\u001b[0m\u001b[0m\n",
            "\u001b[0;31mValueError\u001b[0m: not enough values to unpack (expected 4, got 2)"
          ]
        }
      ]
    },
    {
      "cell_type": "code",
      "metadata": {
        "id": "BR0FQx8UVVTw",
        "colab_type": "code",
        "colab": {}
      },
      "source": [
        "def build_timeseries(mat, y_col_index):\n",
        "    # y_col_index is the index of column that would act as output column\n",
        "    # total number of time-series samples would be len(mat) - TIME_STEPS\n",
        "    dim_0 = mat.shape[0] - TIME_STEPS\n",
        "    dim_1 = mat.shape[1]\n",
        "    x = np.zeros((dim_0, TIME_STEPS, dim_1))\n",
        "    y = np.zeros((dim_0,))\n",
        "    \n",
        "    for i in range(dim_0):\n",
        "        x[i] = mat[i:TIME_STEPS+i]\n",
        "        y[i] = mat[TIME_STEPS+i, y_col_index]\n",
        "    print(\"length of time-series i/o\",x.shape,y.shape)\n",
        "    return x, y"
      ],
      "execution_count": 0,
      "outputs": []
    },
    {
      "cell_type": "code",
      "metadata": {
        "id": "g9jgjQQnV8Sj",
        "colab_type": "code",
        "colab": {}
      },
      "source": [
        "def trim_dataset(mat, batch_size):\n",
        "    \"\"\"\n",
        "    trims dataset to a size that's divisible by BATCH_SIZE\n",
        "    \"\"\"\n",
        "    no_of_rows_drop = mat.shape[0]%batch_size\n",
        "    if(no_of_rows_drop > 0):\n",
        "        return mat[:-no_of_rows_drop]\n",
        "    else:\n",
        "        return mat"
      ],
      "execution_count": 0,
      "outputs": []
    },
    {
      "cell_type": "code",
      "metadata": {
        "id": "gROTQ5-VWNZu",
        "colab_type": "code",
        "colab": {}
      },
      "source": [
        "lstm_model = Sequential()\n",
        "lstm_model.add(LSTM(100, batch_input_shape=(BATCH_SIZE, TIME_STEPS, x_t.shape[2]), dropout=0.0, recurrent_dropout=0.0, stateful=True,     kernel_initializer='random_uniform'))\n",
        "lstm_model.add(Dropout(0.5))\n",
        "lstm_model.add(Dense(20,activation='relu'))\n",
        "lstm_model.add(Dense(1,activation='sigmoid'))\n",
        "optimizer = optimizers.RMSprop(lr=0.01)\n",
        "lstm_model.compile(loss='mean_squared_error', optimizer=optimizer)"
      ],
      "execution_count": 0,
      "outputs": []
    },
    {
      "cell_type": "code",
      "metadata": {
        "id": "OZvt4LtdWPit",
        "colab_type": "code",
        "outputId": "8333261c-0802-4d47-f3f6-218c59c5ae21",
        "colab": {
          "base_uri": "https://localhost:8080/",
          "height": 197
        }
      },
      "source": [
        "history = lstm_model.fit(x_t, y_t, epochs=10, verbose=2, batch_size=BATCH_SIZE,\n",
        "                    shuffle=False, validation_data=(trim_dataset(x_train, BATCH_SIZE),\n",
        "                    trim_dataset(y_train, BATCH_SIZE)), callbacks=[csv_logger])"
      ],
      "execution_count": 0,
      "outputs": [
        {
          "output_type": "error",
          "ename": "NameError",
          "evalue": "ignored",
          "traceback": [
            "\u001b[0;31m---------------------------------------------------------------------------\u001b[0m",
            "\u001b[0;31mNameError\u001b[0m                                 Traceback (most recent call last)",
            "\u001b[0;32m<ipython-input-51-e53cc5da0328>\u001b[0m in \u001b[0;36m<module>\u001b[0;34m()\u001b[0m\n\u001b[1;32m      1\u001b[0m history = lstm_model.fit(x_t, y_t, epochs=10, verbose=2, batch_size=BATCH_SIZE,\n\u001b[1;32m      2\u001b[0m                     shuffle=False, validation_data=(trim_dataset(x_train, BATCH_SIZE),\n\u001b[0;32m----> 3\u001b[0;31m                     trim_dataset(y_train, BATCH_SIZE)), callbacks=[csv_logger])\n\u001b[0m",
            "\u001b[0;31mNameError\u001b[0m: name 'y_train' is not defined"
          ]
        }
      ]
    },
    {
      "cell_type": "code",
      "metadata": {
        "id": "GhUXQyQqYxfT",
        "colab_type": "code",
        "outputId": "2619f133-3754-485b-e786-3fbdba9eae49",
        "colab": {
          "base_uri": "https://localhost:8080/",
          "height": 875,
          "referenced_widgets": [
            "1dbb5d18eafa4435a5d567cbfeee9ec3",
            "6926e6c511844db3bb63239978de2f38",
            "daf4290383704533ba9bb9baf40f366a",
            "e062995a7e7b45b599927236acb7caee",
            "93c52c3c94564d9b85df59c06cb951e4",
            "e422ad20a32148ffb0dddca40fae66ba",
            "a19f769f367a4226ae1a97ae60724897",
            "95e76c205eaf40b08457b72381973403"
          ]
        }
      },
      "source": [
        "import numpy as np\n",
        "import os\n",
        "import sys\n",
        "import time\n",
        "import pandas as pd \n",
        "from tqdm._tqdm_notebook import tqdm_notebook\n",
        "import pickle\n",
        "from keras.models import Sequential, load_model\n",
        "from keras.layers import Dense, Dropout\n",
        "from keras.layers import LSTM\n",
        "from keras.callbacks import ModelCheckpoint, EarlyStopping, ReduceLROnPlateau, CSVLogger\n",
        "from keras import optimizers\n",
        "# from keras.wrappers.scikit_learn import KerasClassifier\n",
        "from sklearn.preprocessing import MinMaxScaler\n",
        "from sklearn.model_selection import train_test_split\n",
        "from sklearn.metrics import mean_squared_error\n",
        "import logging\n",
        "# import talos as ta\n",
        "\n",
        "os.environ['TF_CPP_MIN_LOG_LEVEL'] = '2'\n",
        "logging.getLogger(\"tensorflow\").setLevel(logging.ERROR)\n",
        "os.environ['TZ'] = 'Asia/Kolkata'  # to set timezone; needed when running on cloud\n",
        "time.tzset()\n",
        "\n",
        "params = {\n",
        "    \"batch_size\": 20,  # 20<16<10, 25 was a bust\n",
        "    \"epochs\": 300,\n",
        "    \"lr\": 0.00010000,\n",
        "    \"time_steps\": 60\n",
        "}\n",
        "\n",
        "iter_changes = \"dropout_layers_0.4_0.4\"\n",
        "\n",
        "INPUT_PATH = \"https://query1.finance.yahoo.com/v7/finance/download/RELIANCE.NS?period1=1556841600&period2=1588464000&interval=1d&events=history\"\n",
        "OUTPUT_PATH = \"/outputs/lstm_best_7-3-19_12AM/\"+iter_changes\n",
        "TIME_STEPS = params[\"time_steps\"]\n",
        "BATCH_SIZE = params[\"batch_size\"]\n",
        "stime = time.time()\n",
        "\n",
        "# check if directory already exists\n",
        "\n",
        "def print_time(text, stime):\n",
        "    seconds = (time.time()-stime)\n",
        "    print(text, seconds//60,\"minutes : \",np.round(seconds%60),\"seconds\")\n",
        "\n",
        "\n",
        "def trim_dataset(mat,batch_size):\n",
        "    \"\"\"\n",
        "    trims dataset to a size that's divisible by BATCH_SIZE\n",
        "    \"\"\"\n",
        "    no_of_rows_drop = mat.shape[0]%batch_size\n",
        "    if no_of_rows_drop > 0:\n",
        "        return mat[:-no_of_rows_drop]\n",
        "    else:\n",
        "        return mat\n",
        "\n",
        "\n",
        "def build_timeseries(mat, y_col_index):\n",
        "    \"\"\"\n",
        "    Converts ndarray into timeseries format and supervised data format. Takes first TIME_STEPS\n",
        "    number of rows as input and sets the TIME_STEPS+1th data as corresponding output and so on.\n",
        "    :param mat: ndarray which holds the dataset\n",
        "    :param y_col_index: index of column which acts as output\n",
        "    :return: returns two ndarrays-- input and output in format suitable to feed\n",
        "    to LSTM.\n",
        "    \"\"\"\n",
        "    # total number of time-series samples would be len(mat) - TIME_STEPS\n",
        "    dim_0 = mat.shape[0] - TIME_STEPS\n",
        "    dim_1 = mat.shape[1]\n",
        "    x = np.zeros((dim_0, TIME_STEPS, dim_1))\n",
        "    y = np.zeros((dim_0,))\n",
        "    print(\"dim_0\",dim_0)\n",
        "    for i in tqdm_notebook(range(dim_0)):\n",
        "        x[i] = mat[i:TIME_STEPS+i]\n",
        "        y[i] = mat[TIME_STEPS+i, y_col_index]\n",
        "#         if i < 10:\n",
        "#           print(i,\"-->\", x[i,-1,:], y[i])\n",
        "    print(\"length of time-series i/o\",x.shape,y.shape)\n",
        "    return x, y\n",
        "\n",
        "\n",
        "stime = time.time()\n",
        "#print(os.listdir(INPUT_PATH))\n",
        "df_ge = pd.read_csv(INPUT_PATH, engine='python')\n",
        "print(df_ge.shape)\n",
        "print(df_ge.columns)\n",
        "display(df_ge.head(5))\n",
        "tqdm_notebook.pandas('Processing...')\n",
        "# df_ge = process_dataframe(df_ge)\n",
        "print(df_ge.dtypes)\n",
        "train_cols = [\"Open\",\"High\",\"Low\",\"Close\",\"Volume\"]\n",
        "df_train, df_test = train_test_split(df_ge, train_size=0.8, test_size=0.2, shuffle=False)\n",
        "print(\"Train--Test size\", len(df_train), len(df_test))\n",
        "\n",
        "# scale the feature MinMax, build array\n",
        "x = df_train.loc[:,train_cols].values\n",
        "min_max_scaler = MinMaxScaler()\n",
        "x_train = min_max_scaler.fit_transform(x)\n",
        "x_test = min_max_scaler.transform(df_test.loc[:,train_cols])\n",
        "\n",
        "print(\"Deleting unused dataframes of total size(KB)\",(sys.getsizeof(df_ge)+sys.getsizeof(df_train)+sys.getsizeof(df_test))//1024)\n",
        "\n",
        "del df_ge\n",
        "del df_test\n",
        "del df_train\n",
        "del x\n",
        "\n",
        "print(\"Are any NaNs present in train/test matrices?\",np.isnan(x_train).any(), np.isnan(x_train).any())\n",
        "x_t, y_t = build_timeseries(x_train, 3)\n",
        "x_t = trim_dataset(x_t, BATCH_SIZE)\n",
        "y_t = trim_dataset(y_t, BATCH_SIZE)\n",
        "print(\"Batch trimmed size\",x_t.shape, y_t.shape)\n",
        "\n",
        "\n",
        "def create_model():\n",
        "    lstm_model = Sequential()\n",
        "    # (batch_size, timesteps, data_dim)\n",
        "    lstm_model.add(LSTM(100, batch_input_shape=(BATCH_SIZE, TIME_STEPS, x_t.shape[2]),\n",
        "                        dropout=0.0, recurrent_dropout=0.0, stateful=True, return_sequences=True,\n",
        "                        kernel_initializer='random_uniform'))\n",
        "    lstm_model.add(Dropout(0.4))\n",
        "    lstm_model.add(LSTM(60, dropout=0.0))\n",
        "    lstm_model.add(Dropout(0.4))\n",
        "    lstm_model.add(Dense(20,activation='relu'))\n",
        "    lstm_model.add(Dense(1,activation='sigmoid'))\n",
        "    optimizer = optimizers.RMSprop(lr=params[\"lr\"])\n",
        "    # optimizer = optimizers.SGD(lr=0.000001, decay=1e-6, momentum=0.9, nesterov=True)\n",
        "    lstm_model.compile(loss='mean_squared_error', optimizer=optimizer)\n",
        "    return lstm_model\n",
        "\n",
        "\n",
        "model = None\n",
        "try:\n",
        "    model = pickle.load(open(\"lstm_model\", 'rb'))\n",
        "    print(\"Loaded saved model...\")\n",
        "except FileNotFoundError:\n",
        "    print(\"Model not found\")\n",
        "\n",
        "\n",
        "x_temp, y_temp = build_timeseries(x_test, 3)\n",
        "x_val, x_test_t = np.split(trim_dataset(x_temp, BATCH_SIZE),2)\n",
        "y_val, y_test_t = np.split(trim_dataset(y_temp, BATCH_SIZE),2)\n",
        "\n",
        "print(\"Test size\", x_test_t.shape, y_test_t.shape, x_val.shape, y_val.shape)\n",
        "    \n",
        "is_update_model = True\n",
        "if model is None or is_update_model:\n",
        "    from keras import backend as K\n",
        "    print(\"Building model...\")\n",
        "    print(\"checking if GPU available\", K.tensorflow_backend._get_available_gpus())\n",
        "    model = create_model()\n",
        "    \n",
        "    es = EarlyStopping(monitor='val_loss', mode='min', verbose=1,\n",
        "                       patience=40, min_delta=0.0001)\n",
        "    \n",
        "    mcp = ModelCheckpoint(os.path.join(OUTPUT_PATH,\n",
        "                          \"best_model.h5\"), monitor='val_loss', verbose=1,\n",
        "                          save_best_only=True, save_weights_only=False, mode='min', period=1)\n",
        "\n",
        "    # Not used here. But leaving it here as a reminder for future\n",
        "    r_lr_plat = ReduceLROnPlateau(monitor='val_loss', factor=0.1, patience=30, \n",
        "                                  verbose=0, mode='auto', min_delta=0.0001, cooldown=0, min_lr=0)\n",
        "    \n",
        "    csv_logger = CSVLogger(os.path.join(OUTPUT_PATH, 'training_log_' + time.ctime().replace(\" \",\"_\") + '.log'), append=True)\n",
        "    \n",
        "    history = model.fit(x_t, y_t, epochs=params[\"epochs\"], verbose=2, batch_size=BATCH_SIZE,\n",
        "                        shuffle=False, validation_data=(trim_dataset(x_val, BATCH_SIZE),\n",
        "                        trim_dataset(y_val, BATCH_SIZE)), callbacks=[es, mcp, csv_logger])\n",
        "    \n",
        "    print(\"saving model...\")\n",
        "    pickle.dump(model, open(\"lstm_model\", \"wb\"))\n",
        "\n",
        "# model.evaluate(x_test_t, y_test_t, batch_size=BATCH_SIZE\n",
        "y_pred = model.predict(trim_dataset(x_test_t, BATCH_SIZE), batch_size=BATCH_SIZE)\n",
        "y_pred = y_pred.flatten()\n",
        "y_test_t = trim_dataset(y_test_t, BATCH_SIZE)\n",
        "error = mean_squared_error(y_test_t, y_pred)\n",
        "print(\"Error is\", error, y_pred.shape, y_test_t.shape)\n",
        "print(y_pred[0:15])\n",
        "print(y_test_t[0:15])\n",
        "\n",
        "# convert the predicted value to range of real data\n",
        "y_pred_org = (y_pred * min_max_scaler.data_range_[3]) + min_max_scaler.data_min_[3]\n",
        "# min_max_scaler.inverse_transform(y_pred)\n",
        "y_test_t_org = (y_test_t * min_max_scaler.data_range_[3]) + min_max_scaler.data_min_[3]\n",
        "# min_max_scaler.inverse_transform(y_test_t)\n",
        "print(y_pred_org[0:15])\n",
        "print(y_test_t_org[0:15])\n",
        "\n",
        "# Visualize the training data\n",
        "from matplotlib import pyplot as plt\n",
        "plt.figure()\n",
        "plt.plot(history.history['loss'])\n",
        "plt.plot(history.history['val_loss'])\n",
        "plt.title('Model loss')\n",
        "plt.ylabel('Loss')\n",
        "plt.xlabel('Epoch')\n",
        "plt.legend(['Train', 'Test'], loc='upper left')\n",
        "#plt.show()\n",
        "plt.savefig(os.path.join(OUTPUT_PATH, 'train_vis_BS_'+str(BATCH_SIZE)+\"_\"+time.ctime()+'.png'))\n",
        "\n",
        "# load the saved best model from above\n",
        "saved_model = load_model(os.path.join(OUTPUT_PATH, 'best_model.h5')) # , \"lstm_best_7-3-19_12AM\",\n",
        "print(saved_model)\n",
        "\n",
        "y_pred = saved_model.predict(trim_dataset(x_test_t, BATCH_SIZE), batch_size=BATCH_SIZE)\n",
        "y_pred = y_pred.flatten()\n",
        "y_test_t = trim_dataset(y_test_t, BATCH_SIZE)\n",
        "error = mean_squared_error(y_test_t, y_pred)\n",
        "print(\"Error is\", error, y_pred.shape, y_test_t.shape)\n",
        "print(y_pred[0:15])\n",
        "print(y_test_t[0:15])\n",
        "y_pred_org = (y_pred * min_max_scaler.data_range_[3]) + min_max_scaler.data_min_[3] # min_max_scaler.inverse_transform(y_pred)\n",
        "y_test_t_org = (y_test_t * min_max_scaler.data_range_[3]) + min_max_scaler.data_min_[3] # min_max_scaler.inverse_transform(y_test_t)\n",
        "print(y_pred_org[0:15])\n",
        "print(y_test_t_org[0:15])\n",
        "\n",
        "# Visualize the prediction\n",
        "from matplotlib import pyplot as plt\n",
        "plt.figure()\n",
        "plt.plot(y_pred_org)\n",
        "plt.plot(y_test_t_org)\n",
        "plt.title('Prediction vs Real Stock Price')\n",
        "plt.ylabel('Price')#importing required libraries\n",
        "from sklearn.preprocessing import MinMaxScaler\n",
        "from keras.models import Sequential\n",
        "from keras.layers import Dense, Dropout, LSTM\n",
        "\n",
        "#creating dataframe\n",
        "data = df.sort_index(ascending=True, axis=0)\n",
        "new_data = pd.DataFrame(index=range(0,len(df)),columns=['Date', 'Close'])\n",
        "for i in range(0,len(data)):\n",
        "    new_data['Date'][i] = data['Date'][i]\n",
        "    new_data['Close'][i] = data['Close'][i]\n",
        "\n",
        "#setting index\n",
        "new_data.index = new_data.Date\n",
        "new_data.drop('Date', axis=1, inplace=True)\n",
        "\n",
        "#creating train and test sets\n",
        "dataset = new_data.values\n",
        "\n",
        "train = dataset[0:987,:]\n",
        "valid = dataset[987:,:]\n",
        "\n",
        "#converting dataset into x_train and y_train\n",
        "scaler = MinMaxScaler(feature_range=(0, 1))\n",
        "scaled_data = scaler.fit_transform(dataset)\n",
        "\n",
        "x_train, y_train = [], []\n",
        "for i in range(60,len(train)):\n",
        "    x_train.append(scaled_data[i-60:i,0])\n",
        "    y_train.append(scaled_data[i,0])\n",
        "x_train, y_train = np.array(x_train), np.array(y_train)\n",
        "\n",
        "x_train = np.reshape(x_train, (x_train.shape[0],x_train.shape[1],1))\n",
        "\n",
        "# create and fit the LSTM network\n",
        "model = Sequential()\n",
        "model.add(LSTM(units=50, return_sequences=True, input_shape=(x_train.shape[1],1)))\n",
        "model.add(LSTM(units=50))\n",
        "model.add(Dense(1))\n",
        "\n",
        "model.compile(loss='mean_squared_error', optimizer='adam')\n",
        "model.fit(x_train, y_train, epochs=1, batch_size=1, verbose=2)\n",
        "\n",
        "#predicting 246 values, using past 60 from the train data\n",
        "inputs = new_data[len(new_data) - len(valid) - 60:].values\n",
        "inputs = inputs.reshape(-1,1)\n",
        "inputs  = scaler.transform(inputs)\n",
        "\n",
        "X_test = []\n",
        "for i in range(60,inputs.shape[0]):\n",
        "    X_test.append(inputs[i-60:i,0])\n",
        "X_test = np.array(X_test)\n",
        "\n",
        "X_test = np.reshape(X_test, (X_test.shape[0],X_test.shape[1],1))\n",
        "closing_price = model.predict(X_test)\n",
        "closing_price = scaler.inverse_transform(closing_price)\n",
        "\n",
        "plt.xlabel('Days')\n",
        "plt.legend(['Prediction', 'Real'], loc='upper left')\n",
        "#plt.show()\n",
        "plt.savefig(os.path.join(OUTPUT_PATH, 'pred_vs_real_BS'+str(BATCH_SIZE)+\"_\"+time.ctime()+'.png'))\n",
        "print_time(\"program completed \", stime)"
      ],
      "execution_count": 0,
      "outputs": [
        {
          "output_type": "stream",
          "text": [
            "(244, 7)\n",
            "Index(['Date', 'Open', 'High', 'Low', 'Close', 'Adj Close', 'Volume'], dtype='object')\n"
          ],
          "name": "stdout"
        },
        {
          "output_type": "display_data",
          "data": {
            "text/html": [
              "<div>\n",
              "<style scoped>\n",
              "    .dataframe tbody tr th:only-of-type {\n",
              "        vertical-align: middle;\n",
              "    }\n",
              "\n",
              "    .dataframe tbody tr th {\n",
              "        vertical-align: top;\n",
              "    }\n",
              "\n",
              "    .dataframe thead th {\n",
              "        text-align: right;\n",
              "    }\n",
              "</style>\n",
              "<table border=\"1\" class=\"dataframe\">\n",
              "  <thead>\n",
              "    <tr style=\"text-align: right;\">\n",
              "      <th></th>\n",
              "      <th>Date</th>\n",
              "      <th>Open</th>\n",
              "      <th>High</th>\n",
              "      <th>Low</th>\n",
              "      <th>Close</th>\n",
              "      <th>Adj Close</th>\n",
              "      <th>Volume</th>\n",
              "    </tr>\n",
              "  </thead>\n",
              "  <tbody>\n",
              "    <tr>\n",
              "      <th>0</th>\n",
              "      <td>2019-05-03</td>\n",
              "      <td>1407.949951</td>\n",
              "      <td>1417.500000</td>\n",
              "      <td>1402.650024</td>\n",
              "      <td>1408.849976</td>\n",
              "      <td>1401.091064</td>\n",
              "      <td>6510169.0</td>\n",
              "    </tr>\n",
              "    <tr>\n",
              "      <th>1</th>\n",
              "      <td>2019-05-06</td>\n",
              "      <td>1398.000000</td>\n",
              "      <td>1402.800049</td>\n",
              "      <td>1378.099976</td>\n",
              "      <td>1384.900024</td>\n",
              "      <td>1377.272949</td>\n",
              "      <td>7237910.0</td>\n",
              "    </tr>\n",
              "    <tr>\n",
              "      <th>2</th>\n",
              "      <td>2019-05-07</td>\n",
              "      <td>1394.800049</td>\n",
              "      <td>1395.000000</td>\n",
              "      <td>1340.199951</td>\n",
              "      <td>1343.500000</td>\n",
              "      <td>1336.100952</td>\n",
              "      <td>8877095.0</td>\n",
              "    </tr>\n",
              "    <tr>\n",
              "      <th>3</th>\n",
              "      <td>2019-05-08</td>\n",
              "      <td>1340.000000</td>\n",
              "      <td>1340.000000</td>\n",
              "      <td>1292.199951</td>\n",
              "      <td>1299.449951</td>\n",
              "      <td>1292.293457</td>\n",
              "      <td>14610543.0</td>\n",
              "    </tr>\n",
              "    <tr>\n",
              "      <th>4</th>\n",
              "      <td>2019-05-09</td>\n",
              "      <td>1288.800049</td>\n",
              "      <td>1288.800049</td>\n",
              "      <td>1251.750000</td>\n",
              "      <td>1256.449951</td>\n",
              "      <td>1249.530273</td>\n",
              "      <td>19507368.0</td>\n",
              "    </tr>\n",
              "  </tbody>\n",
              "</table>\n",
              "</div>"
            ],
            "text/plain": [
              "         Date         Open         High  ...        Close    Adj Close      Volume\n",
              "0  2019-05-03  1407.949951  1417.500000  ...  1408.849976  1401.091064   6510169.0\n",
              "1  2019-05-06  1398.000000  1402.800049  ...  1384.900024  1377.272949   7237910.0\n",
              "2  2019-05-07  1394.800049  1395.000000  ...  1343.500000  1336.100952   8877095.0\n",
              "3  2019-05-08  1340.000000  1340.000000  ...  1299.449951  1292.293457  14610543.0\n",
              "4  2019-05-09  1288.800049  1288.800049  ...  1256.449951  1249.530273  19507368.0\n",
              "\n",
              "[5 rows x 7 columns]"
            ]
          },
          "metadata": {
            "tags": []
          }
        },
        {
          "output_type": "stream",
          "text": [
            "Date          object\n",
            "Open         float64\n",
            "High         float64\n",
            "Low          float64\n",
            "Close        float64\n",
            "Adj Close    float64\n",
            "Volume       float64\n",
            "dtype: object\n",
            "Train--Test size 195 49\n",
            "Deleting unused dataframes of total size(KB) 56\n",
            "Are any NaNs present in train/test matrices? True True\n",
            "dim_0 135\n"
          ],
          "name": "stdout"
        },
        {
          "output_type": "display_data",
          "data": {
            "application/vnd.jupyter.widget-view+json": {
              "model_id": "1dbb5d18eafa4435a5d567cbfeee9ec3",
              "version_minor": 0,
              "version_major": 2
            },
            "text/plain": [
              "HBox(children=(IntProgress(value=0, max=135), HTML(value='')))"
            ]
          },
          "metadata": {
            "tags": []
          }
        },
        {
          "output_type": "stream",
          "text": [
            "\n",
            "length of time-series i/o (135, 60, 5) (135,)\n",
            "Batch trimmed size (120, 60, 5) (120,)\n",
            "Model not found\n"
          ],
          "name": "stdout"
        },
        {
          "output_type": "error",
          "ename": "ValueError",
          "evalue": "ignored",
          "traceback": [
            "\u001b[0;31m---------------------------------------------------------------------------\u001b[0m",
            "\u001b[0;31mValueError\u001b[0m                                Traceback (most recent call last)",
            "\u001b[0;32m<ipython-input-72-6967044be973>\u001b[0m in \u001b[0;36m<module>\u001b[0;34m()\u001b[0m\n\u001b[1;32m    138\u001b[0m \u001b[0;34m\u001b[0m\u001b[0m\n\u001b[1;32m    139\u001b[0m \u001b[0;34m\u001b[0m\u001b[0m\n\u001b[0;32m--> 140\u001b[0;31m \u001b[0mx_temp\u001b[0m\u001b[0;34m,\u001b[0m \u001b[0my_temp\u001b[0m \u001b[0;34m=\u001b[0m \u001b[0mbuild_timeseries\u001b[0m\u001b[0;34m(\u001b[0m\u001b[0mx_test\u001b[0m\u001b[0;34m,\u001b[0m \u001b[0;36m3\u001b[0m\u001b[0;34m)\u001b[0m\u001b[0;34m\u001b[0m\u001b[0;34m\u001b[0m\u001b[0m\n\u001b[0m\u001b[1;32m    141\u001b[0m \u001b[0mx_val\u001b[0m\u001b[0;34m,\u001b[0m \u001b[0mx_test_t\u001b[0m \u001b[0;34m=\u001b[0m \u001b[0mnp\u001b[0m\u001b[0;34m.\u001b[0m\u001b[0msplit\u001b[0m\u001b[0;34m(\u001b[0m\u001b[0mtrim_dataset\u001b[0m\u001b[0;34m(\u001b[0m\u001b[0mx_temp\u001b[0m\u001b[0;34m,\u001b[0m \u001b[0mBATCH_SIZE\u001b[0m\u001b[0;34m)\u001b[0m\u001b[0;34m,\u001b[0m\u001b[0;36m2\u001b[0m\u001b[0;34m)\u001b[0m\u001b[0;34m\u001b[0m\u001b[0;34m\u001b[0m\u001b[0m\n\u001b[1;32m    142\u001b[0m \u001b[0my_val\u001b[0m\u001b[0;34m,\u001b[0m \u001b[0my_test_t\u001b[0m \u001b[0;34m=\u001b[0m \u001b[0mnp\u001b[0m\u001b[0;34m.\u001b[0m\u001b[0msplit\u001b[0m\u001b[0;34m(\u001b[0m\u001b[0mtrim_dataset\u001b[0m\u001b[0;34m(\u001b[0m\u001b[0my_temp\u001b[0m\u001b[0;34m,\u001b[0m \u001b[0mBATCH_SIZE\u001b[0m\u001b[0;34m)\u001b[0m\u001b[0;34m,\u001b[0m\u001b[0;36m2\u001b[0m\u001b[0;34m)\u001b[0m\u001b[0;34m\u001b[0m\u001b[0;34m\u001b[0m\u001b[0m\n",
            "\u001b[0;32m<ipython-input-72-6967044be973>\u001b[0m in \u001b[0;36mbuild_timeseries\u001b[0;34m(mat, y_col_index)\u001b[0m\n\u001b[1;32m     68\u001b[0m     \u001b[0mdim_0\u001b[0m \u001b[0;34m=\u001b[0m \u001b[0mmat\u001b[0m\u001b[0;34m.\u001b[0m\u001b[0mshape\u001b[0m\u001b[0;34m[\u001b[0m\u001b[0;36m0\u001b[0m\u001b[0;34m]\u001b[0m \u001b[0;34m-\u001b[0m \u001b[0mTIME_STEPS\u001b[0m\u001b[0;34m\u001b[0m\u001b[0;34m\u001b[0m\u001b[0m\n\u001b[1;32m     69\u001b[0m     \u001b[0mdim_1\u001b[0m \u001b[0;34m=\u001b[0m \u001b[0mmat\u001b[0m\u001b[0;34m.\u001b[0m\u001b[0mshape\u001b[0m\u001b[0;34m[\u001b[0m\u001b[0;36m1\u001b[0m\u001b[0;34m]\u001b[0m\u001b[0;34m\u001b[0m\u001b[0;34m\u001b[0m\u001b[0m\n\u001b[0;32m---> 70\u001b[0;31m     \u001b[0mx\u001b[0m \u001b[0;34m=\u001b[0m \u001b[0mnp\u001b[0m\u001b[0;34m.\u001b[0m\u001b[0mzeros\u001b[0m\u001b[0;34m(\u001b[0m\u001b[0;34m(\u001b[0m\u001b[0mdim_0\u001b[0m\u001b[0;34m,\u001b[0m \u001b[0mTIME_STEPS\u001b[0m\u001b[0;34m,\u001b[0m \u001b[0mdim_1\u001b[0m\u001b[0;34m)\u001b[0m\u001b[0;34m)\u001b[0m\u001b[0;34m\u001b[0m\u001b[0;34m\u001b[0m\u001b[0m\n\u001b[0m\u001b[1;32m     71\u001b[0m     \u001b[0my\u001b[0m \u001b[0;34m=\u001b[0m \u001b[0mnp\u001b[0m\u001b[0;34m.\u001b[0m\u001b[0mzeros\u001b[0m\u001b[0;34m(\u001b[0m\u001b[0;34m(\u001b[0m\u001b[0mdim_0\u001b[0m\u001b[0;34m,\u001b[0m\u001b[0;34m)\u001b[0m\u001b[0;34m)\u001b[0m\u001b[0;34m\u001b[0m\u001b[0;34m\u001b[0m\u001b[0m\n\u001b[1;32m     72\u001b[0m     \u001b[0mprint\u001b[0m\u001b[0;34m(\u001b[0m\u001b[0;34m\"dim_0\"\u001b[0m\u001b[0;34m,\u001b[0m\u001b[0mdim_0\u001b[0m\u001b[0;34m)\u001b[0m\u001b[0;34m\u001b[0m\u001b[0;34m\u001b[0m\u001b[0m\n",
            "\u001b[0;31mValueError\u001b[0m: negative dimensions are not allowed"
          ]
        }
      ]
    },
    {
      "cell_type": "code",
      "metadata": {
        "id": "CzIHnGlZbkM6",
        "colab_type": "code",
        "outputId": "ebb063ce-9da9-402b-87e6-17b620de9b71",
        "colab": {
          "base_uri": "https://localhost:8080/",
          "height": 357
        }
      },
      "source": [
        "#importing required libraries\n",
        "from sklearn.preprocessing import MinMaxScaler\n",
        "from keras.models import Sequential\n",
        "from keras.layers import Dense, Dropout, LSTM\n",
        "from sklearn.model_selection import train_test_split\n",
        "\n",
        "#creating dataframe\n",
        "df = pd.read_csv(\"https://query1.finance.yahoo.com/v7/finance/download/RELIANCE.NS?period1=1556841600&period2=1588464000&interval=1d&events=history\")\n",
        "df = df.dropna()\n",
        "\n",
        "#converting dataset into x_train and y_train\n",
        "scaler = MinMaxScaler(feature_range=(0, 1))\n",
        "scaled_data = scaler.fit_transform(dataset)\n",
        "\n",
        "#setting index\n",
        "y = df[\"Close\"].values\n",
        "X = range(len(y))\n",
        "#X = [[d] for d in range(len(y))]\n",
        "X = np.array(X)\n",
        "\n",
        "X_train, X_test, y_train, y_test = train_test_split(X, y, test_size=0.33, random_state=42)\n",
        "X_train = X_train.reshape(X_train.shape[0], 1, 1)\n",
        "X_test = X_test.reshape(X_test.shape[0], 1, 1)\n",
        "\n",
        "# create and fit the LSTM network\n",
        "model = Sequential()\n",
        "model.add(LSTM(units=50, return_sequences=True))\n",
        "model.add(LSTM(units=50))\n",
        "model.add(Dense(1))\n",
        "\n",
        "model.compile(loss='mean_squared_error', optimizer='adam')\n",
        "model.fit(X_train, y_train, epochs=10, batch_size=1, verbose=2)\n",
        "\n",
        "closing_price = model.predict(X_test)"
      ],
      "execution_count": 0,
      "outputs": [
        {
          "output_type": "stream",
          "text": [
            "Epoch 1/10\n",
            " - 1s - loss: 1795214.3009\n",
            "Epoch 2/10\n",
            " - 0s - loss: 1763390.6806\n",
            "Epoch 3/10\n",
            " - 0s - loss: 1743657.7303\n",
            "Epoch 4/10\n",
            " - 0s - loss: 1725663.7809\n",
            "Epoch 5/10\n",
            " - 0s - loss: 1708326.1296\n",
            "Epoch 6/10\n",
            " - 0s - loss: 1691408.9425\n",
            "Epoch 7/10\n",
            " - 0s - loss: 1674774.8870\n",
            "Epoch 8/10\n",
            " - 0s - loss: 1658365.4934\n",
            "Epoch 9/10\n",
            " - 0s - loss: 1642148.5135\n",
            "Epoch 10/10\n",
            " - 0s - loss: 1626108.2284\n"
          ],
          "name": "stdout"
        }
      ]
    },
    {
      "cell_type": "code",
      "metadata": {
        "id": "2U0qnFpor1tX",
        "colab_type": "code",
        "outputId": "529a4a12-0ae0-46af-873d-0cceae9405b5",
        "colab": {
          "base_uri": "https://localhost:8080/",
          "height": 357
        }
      },
      "source": [
        "#importing required libraries\n",
        "from sklearn.preprocessing import MinMaxScaler\n",
        "from keras.models import Sequential\n",
        "from keras.layers import Dense, Dropout, LSTM\n",
        "from sklearn.model_selection import train_test_split\n",
        "\n",
        "#creating dataframe\n",
        "df = pd.read_csv(\"https://query1.finance.yahoo.com/v7/finance/download/RELIANCE.NS?period1=1556841600&period2=1588464000&interval=1d&events=history\")\n",
        "df = df.dropna()\n",
        "\n",
        "#converting dataset into x_train and y_train\n",
        "scaler = MinMaxScaler(feature_range=(0, 1))\n",
        "scaled_data = scaler.fit_transform(dataset)\n",
        "\n",
        "#setting index\n",
        "y = df[\"Close\"].values\n",
        "X = range(len(y))\n",
        "days = X\n",
        "#X = [[d] for d in range(len(y))]\n",
        "X = np.array(X)\n",
        "\n",
        "#X_train, X_test, y_train, y_test = train_test_split(X, y, test_size=0.33, random_state=42)\n",
        "#X_train = X_train.reshape(X_train.shape[0], 1, 1)\n",
        "X = X.reshape(X.shape[0], 1, 1)\n",
        "\n",
        "# create and fit the LSTM network\n",
        "model = Sequential()\n",
        "model.add(LSTM(units=50, return_sequences=True))\n",
        "model.add(LSTM(units=50))\n",
        "model.add(Dense(1))\n",
        "\n",
        "model.compile(loss='mean_squared_error', optimizer='adam')\n",
        "model.fit(X, y, epochs=10, batch_size=1, verbose=2)\n",
        "\n",
        "closing_price = model.predict(X)"
      ],
      "execution_count": 0,
      "outputs": [
        {
          "output_type": "stream",
          "text": [
            "Epoch 1/10\n",
            " - 1s - loss: 1804236.2989\n",
            "Epoch 2/10\n",
            " - 1s - loss: 1768036.9113\n",
            "Epoch 3/10\n",
            " - 1s - loss: 1741050.3261\n",
            "Epoch 4/10\n",
            " - 1s - loss: 1715422.5772\n",
            "Epoch 5/10\n",
            " - 1s - loss: 1690487.1836\n",
            "Epoch 6/10\n",
            " - 1s - loss: 1665984.4200\n",
            "Epoch 7/10\n",
            " - 1s - loss: 1641849.0358\n",
            "Epoch 8/10\n",
            " - 1s - loss: 1618018.7410\n",
            "Epoch 9/10\n",
            " - 1s - loss: 1594482.3943\n",
            "Epoch 10/10\n",
            " - 1s - loss: 1571217.8269\n"
          ],
          "name": "stdout"
        }
      ]
    },
    {
      "cell_type": "code",
      "metadata": {
        "id": "zxBz6dzWt350",
        "colab_type": "code",
        "outputId": "9d9597d2-151b-45b7-b0e4-e68b652b7723",
        "colab": {
          "base_uri": "https://localhost:8080/",
          "height": 265
        }
      },
      "source": [
        "plt.plot(days, y)\n",
        "plt.plot(days, closing_price)\n",
        "plt.show()"
      ],
      "execution_count": 0,
      "outputs": [
        {
          "output_type": "display_data",
          "data": {
            "image/png": "[encoded data removed]",
            "text/plain": [
              "<Figure size 432x288 with 1 Axes>"
            ]
          },
          "metadata": {
            "tags": [],
            "needs_background": "light"
          }
        }
      ]
    },
    {
      "cell_type": "code",
      "metadata": {
        "id": "5sWEWP5RwKjH",
        "colab_type": "code",
        "colab": {}
      },
      "source": [
        "import pandas as pd\n",
        "import matplotlib.pyplot as plt\n",
        "from pandas import Categorical\n",
        "from numpy import array\n",
        "from keras.models import Sequential\n",
        "from keras.layers import LSTM\n",
        "from keras.layers import Dense"
      ],
      "execution_count": 0,
      "outputs": []
    },
    {
      "cell_type": "code",
      "metadata": {
        "id": "3_-hdAtKxIiB",
        "colab_type": "code",
        "colab": {}
      },
      "source": [
        "# df = pd.read_csv(\"https://query1.finance.yahoo.com/v7/finance/download/RELIANCE.NS?period1=1556841600&period2=1588464000&interval=1d&events=history\") # 1Y\n",
        "# df = pd.read_csv(\"https://query1.finance.yahoo.com/v7/finance/download/RELIANCE.NS?period1=1583193600&period2=1588464000&interval=1d&events=history\") # 3M\n",
        "# df = pd.read_csv(\"https://query1.finance.yahoo.com/v7/finance/download/RELIANCE.NS?period1=1554249600&period2=1588464000&interval=1d&events=history\") # 1M\n",
        "# df = pd.read_csv(\"https://query1.finance.yahoo.com/v7/finance/download/RELIANCE.NS?period1=1588032000&period2=1588464000&interval=1d&events=history\") # 3D\n",
        "\n",
        "df = pd.read_csv(\"https://query1.finance.yahoo.com/v7/finance/download/BANDHANBNK.NS?period1=1585872000&period2=1588464000&interval=1d&events=history\") # 1M\n",
        "df = df.dropna()\n",
        "df[\"Date\"] = Categorical(df[\"Date\"]).codes"
      ],
      "execution_count": 0,
      "outputs": []
    },
    {
      "cell_type": "code",
      "metadata": {
        "id": "5LLWof1tZHHs",
        "colab_type": "code",
        "colab": {}
      },
      "source": [
        "n_steps = len(df)\n",
        "n_features = 2"
      ],
      "execution_count": 0,
      "outputs": []
    },
    {
      "cell_type": "code",
      "metadata": {
        "id": "Xs-jtGN-A5dy",
        "colab_type": "code",
        "colab": {}
      },
      "source": [
        "X = df[[\"Date\", \"Open\"]].values\n",
        "X = X.reshape((X.shape[0], X.shape[1], 1))\n",
        "days = range(len(df))\n",
        "y = df[\"Close\"].values"
      ],
      "execution_count": 0,
      "outputs": []
    },
    {
      "cell_type": "code",
      "metadata": {
        "id": "BKSSYP7TWx8z",
        "colab_type": "code",
        "colab": {
          "base_uri": "https://localhost:8080/",
          "height": 34
        },
        "outputId": "60f90bae-101f-4d73-9349-8b702b0f975b"
      },
      "source": [
        "model = Sequential()\n",
        "model.add(LSTM(50, activation='relu', input_shape=(X.shape[1], 1)))\n",
        "model.add(Dense(1))\n",
        "model.compile(optimizer='adam', loss='mse')\n",
        "model.fit(X, y, epochs=3000, verbose=0)"
      ],
      "execution_count": 393,
      "outputs": [
        {
          "output_type": "execute_result",
          "data": {
            "text/plain": [
              "<keras.callbacks.callbacks.History at 0x7f596ef01dd8>"
            ]
          },
          "metadata": {
            "tags": []
          },
          "execution_count": 393
        }
      ]
    },
    {
      "cell_type": "code",
      "metadata": {
        "id": "SeVQCcBCi_tw",
        "colab_type": "code",
        "colab": {}
      },
      "source": [
        "y_pred = model.predict(X, verbose=0)"
      ],
      "execution_count": 0,
      "outputs": []
    },
    {
      "cell_type": "code",
      "metadata": {
        "id": "tMdo-4FPjQZp",
        "colab_type": "code",
        "colab": {
          "base_uri": "https://localhost:8080/",
          "height": 282
        },
        "outputId": "0c5f1b67-748b-45b4-e177-ef1b7492f0c9"
      },
      "source": [
        "plt.plot(days, y, 'r')\n",
        "plt.plot(days, y_pred)\n",
        "plt.plot()"
      ],
      "execution_count": 395,
      "outputs": [
        {
          "output_type": "execute_result",
          "data": {
            "text/plain": [
              "[]"
            ]
          },
          "metadata": {
            "tags": []
          },
          "execution_count": 395
        },
        {
          "output_type": "display_data",
          "data": {
            "image/png": "[encoded data removed]",
            "text/plain": [
              "<Figure size 432x288 with 1 Axes>"
            ]
          },
          "metadata": {
            "tags": [],
            "needs_background": "light"
          }
        }
      ]
    },
    {
      "cell_type": "code",
      "metadata": {
        "id": "6L5EyzXVkG3D",
        "colab_type": "code",
        "colab": {
          "base_uri": "https://localhost:8080/",
          "height": 34
        },
        "outputId": "06b6394d-8ab6-42eb-8328-88a838321f79"
      },
      "source": [
        "y_pred = model.predict(np.array([[[len(df)], [1453.95]]]), verbose=0)\n",
        "print(y_pred)"
      ],
      "execution_count": 397,
      "outputs": [
        {
          "output_type": "stream",
          "text": [
            "[[1132.1407]]\n"
          ],
          "name": "stdout"
        }
      ]
    },
    {
      "cell_type": "code",
      "metadata": {
        "id": "s4J0EX09s7qR",
        "colab_type": "code",
        "colab": {}
      },
      "source": [
        ""
      ],
      "execution_count": 0,
      "outputs": []
    }
  ]
}